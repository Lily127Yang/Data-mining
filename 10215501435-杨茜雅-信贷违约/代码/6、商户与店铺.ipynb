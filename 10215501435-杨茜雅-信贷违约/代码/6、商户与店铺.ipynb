{
 "cells": [
  {
   "attachments": {},
   "cell_type": "markdown",
   "metadata": {},
   "source": [
    "### 1、商户&&店铺的关系\n",
    "#### 统计一下每个merchant_id有多少store"
   ]
  },
  {
   "attachments": {},
   "cell_type": "markdown",
   "metadata": {},
   "source": [
    "#### 新特征 store_count"
   ]
  },
  {
   "cell_type": "code",
   "execution_count": 2,
   "metadata": {},
   "outputs": [
    {
     "name": "stdout",
     "output_type": "stream",
     "text": [
      "    merchant_id  store_count\n",
      "0  164831531007            1\n",
      "1  217979763279            1\n",
      "2  454350470085            1\n",
      "3  567722732408            1\n",
      "4  762310083866            1\n"
     ]
    }
   ],
   "source": [
    "import pandas as pd\n",
    "\n",
    "# 加载数据\n",
    "data = pd.read_csv('流水数据/combined_data_unique.txt')\n",
    "\n",
    "# 删除 merchant_id 和 store_id 都相同的重复行\n",
    "data.drop_duplicates(subset=['merchant_id', 'store_id'], keep='first', inplace=True)\n",
    "\n",
    "# 计算每个 merchant_id 对应的不同 store_id 的数量\n",
    "store_counts = data.groupby('merchant_id')['store_id'].nunique().reset_index(name='store_count')\n",
    "\n",
    "# 保存结果\n",
    "store_counts.to_csv('商户-店铺/merchant_count.txt', index=False)\n",
    "\n",
    "# 打印部分数据以确认\n",
    "print(store_counts.head())\n"
   ]
  },
  {
   "cell_type": "code",
   "execution_count": 2,
   "metadata": {},
   "outputs": [
    {
     "name": "stdout",
     "output_type": "stream",
     "text": [
      "228\n"
     ]
    }
   ],
   "source": [
    "# 读取文件\n",
    "with open('商户-店铺/merchant_count.txt', 'r') as file:\n",
    "    lines = file.readlines()\n",
    "\n",
    "# 初始化计数器\n",
    "count = 0\n",
    "\n",
    "# 遍历每一行数据，跳过第一行\n",
    "for line in lines[1:]:\n",
    "    merchant_id, store_count = line.strip().split(',')\n",
    "    if int(store_count) != 1:\n",
    "        count += 1\n",
    "\n",
    "# 打印结果\n",
    "print(count)\n"
   ]
  },
  {
   "cell_type": "code",
   "execution_count": 3,
   "metadata": {},
   "outputs": [
    {
     "name": "stdout",
     "output_type": "stream",
     "text": [
      "整体数据量: 5933\n",
      "前三行数据：\n",
      "          store_id      merchant_id  store_count\n",
      "0  292289830769797  516101438346939            1\n",
      "1  753408387511040  965952426216589            1\n",
      "2  487886544602057  865666381695711            1\n"
     ]
    }
   ],
   "source": [
    "import pandas as pd\n",
    "\n",
    "# 读取数据文件\n",
    "file_path = '流水数据/combined_data_unique.txt'\n",
    "data = pd.read_csv(file_path, usecols=['store_id', 'merchant_id'])\n",
    "\n",
    "# 去除重复的 (merchant_id, store_id) 组合\n",
    "data = data.drop_duplicates(subset=['merchant_id', 'store_id'])\n",
    "\n",
    "# 对每个 merchant_id 计算不同的 store_id 数量\n",
    "merchant_store_count = data.groupby('merchant_id')['store_id'].nunique().reset_index()\n",
    "merchant_store_count.rename(columns={'store_id': 'store_count'}, inplace=True)\n",
    "\n",
    "# 将计数结果合并回原始数据\n",
    "result = pd.merge(data, merchant_store_count, on='merchant_id')\n",
    "\n",
    "# 保存新的数据文件\n",
    "output_file = '商户-店铺/merchant_store_count.txt'\n",
    "result.to_csv(output_file, index=False)\n",
    "\n",
    "# 打印整体数据量和前三行数据\n",
    "print(f\"整体数据量: {result.shape[0]}\")\n",
    "print(\"前三行数据：\")\n",
    "print(result.head(3))\n"
   ]
  },
  {
   "cell_type": "code",
   "execution_count": 4,
   "metadata": {},
   "outputs": [
    {
     "name": "stdout",
     "output_type": "stream",
     "text": [
      "所有相同的merchant_id对应的store_count是一致的。\n"
     ]
    }
   ],
   "source": [
    "#check\n",
    "import pandas as pd\n",
    "\n",
    "# 加载商户-店铺数据\n",
    "store_data = pd.read_csv('商户-店铺/merchant_store_count.txt')\n",
    "\n",
    "# 按 merchant_id 分组，并计算每个组中 store_count 的唯一值数量\n",
    "grouped = store_data.groupby('merchant_id')['store_count'].nunique()\n",
    "\n",
    "# 找出 store_count 唯一值数量大于1的 merchant_id\n",
    "inconsistent_merchants = grouped[grouped > 1]\n",
    "\n",
    "# 打印结果\n",
    "if len(inconsistent_merchants) > 0:\n",
    "    print(\"存在不一致的merchant_id及其对应的store_count数量:\")\n",
    "    print(inconsistent_merchants)\n",
    "else:\n",
    "    print(\"所有相同的merchant_id对应的store_count是一致的。\")\n"
   ]
  },
  {
   "attachments": {},
   "cell_type": "markdown",
   "metadata": {},
   "source": [
    "### 2、查看是否有商户没有store_count的信息\n",
    "#### 发现没有历史还款记录、即没有历史还款也没有交易流水的商户，一定没有store_count的信息"
   ]
  },
  {
   "cell_type": "code",
   "execution_count": 19,
   "metadata": {},
   "outputs": [
    {
     "name": "stdout",
     "output_type": "stream",
     "text": [
      "测试1/test_both_with_merchant_info.txt 中不能找到的merchant_id数量为: 0\n",
      "测试1/test_combined_with_merchant_info.txt 中不能找到的merchant_id数量为: 0\n",
      "测试1/test_history_with_merchant_info.txt 中不能找到的merchant_id数量为: 6\n",
      "测试1/test_neither_with_merchant_info.txt 中不能找到的merchant_id数量为: 11\n"
     ]
    }
   ],
   "source": [
    "import pandas as pd\n",
    "\n",
    "# 文件路径\n",
    "test_files = [\n",
    "    '测试1/test_both_with_merchant_info.txt',\n",
    "    '测试1/test_combined_with_merchant_info.txt',\n",
    "    '测试1/test_history_with_merchant_info.txt',\n",
    "    '测试1/test_neither_with_merchant_info.txt'\n",
    "]\n",
    "merchant_count_file = '商户-店铺/merchant_count.txt'\n",
    "\n",
    "# 读取商户ID数据\n",
    "merchant_count_df = pd.read_csv(merchant_count_file)\n",
    "merchant_ids_set = set(merchant_count_df['merchant_id'])\n",
    "\n",
    "# 分别处理每个测试文件\n",
    "for test_file in test_files:\n",
    "    test_df = pd.read_csv(test_file)\n",
    "    # 计算不能在merchant_count.txt中找到的merchant_id数量\n",
    "    missing_count = test_df[~test_df['merchant_id'].isin(merchant_ids_set)].shape[0]\n",
    "    print(f\"{test_file} 中不能找到的merchant_id数量为: {missing_count}\")\n"
   ]
  },
  {
   "cell_type": "code",
   "execution_count": 20,
   "metadata": {},
   "outputs": [
    {
     "name": "stdout",
     "output_type": "stream",
     "text": [
      "训练1/train_both_with_merchant_info.txt 中不能找到的merchant_id数量为: 0\n",
      "训练1/train_combined_with_merchant_info.txt 中不能找到的merchant_id数量为: 0\n",
      "训练1/train_history_with_merchant_info.txt 中不能找到的merchant_id数量为: 22\n",
      "训练1/train_neither_with_merchant_info.txt 中不能找到的merchant_id数量为: 36\n"
     ]
    }
   ],
   "source": [
    "import pandas as pd\n",
    "\n",
    "# 文件路径\n",
    "test_files = [\n",
    "    '训练1/train_both_with_merchant_info.txt',\n",
    "    '训练1/train_combined_with_merchant_info.txt',\n",
    "    '训练1/train_history_with_merchant_info.txt',\n",
    "    '训练1/train_neither_with_merchant_info.txt'\n",
    "]\n",
    "merchant_count_file = '商户-店铺/merchant_count.txt'\n",
    "\n",
    "# 读取商户ID数据\n",
    "merchant_count_df = pd.read_csv(merchant_count_file)\n",
    "merchant_ids_set = set(merchant_count_df['merchant_id'])\n",
    "\n",
    "# 分别处理每个测试文件\n",
    "for test_file in test_files:\n",
    "    test_df = pd.read_csv(test_file)\n",
    "    # 计算不能在merchant_count.txt中找到的merchant_id数量\n",
    "    missing_count = test_df[~test_df['merchant_id'].isin(merchant_ids_set)].shape[0]\n",
    "    print(f\"{test_file} 中不能找到的merchant_id数量为: {missing_count}\")\n"
   ]
  },
  {
   "attachments": {},
   "cell_type": "markdown",
   "metadata": {},
   "source": [
    "### 3、填充store_count特征"
   ]
  },
  {
   "attachments": {},
   "cell_type": "markdown",
   "metadata": {},
   "source": [
    "#####      测试数据"
   ]
  },
  {
   "cell_type": "code",
   "execution_count": 21,
   "metadata": {},
   "outputs": [
    {
     "name": "stdout",
     "output_type": "stream",
     "text": [
      "测试1/test_both_with_merchant_info.txt 合并前的数据大小（行，列）: (65, 7)\n",
      "合并前数据的前三行:\n",
      "   apply_id      merchant_id           apply_date  lend_amount  lend_period  \\\n",
      "0  51179153  741067405523374  2018-05-23 00:00:00      50000.0            4   \n",
      "1  51727931   72468430993589  2018-05-28 00:00:00       5000.0            6   \n",
      "2  49518154  120072423392034  2018-05-02 00:00:00      50000.0           12   \n",
      "\n",
      "   industry_level1  province  \n",
      "0                2         1  \n",
      "1                2         1  \n",
      "2                1         1  \n",
      "测试1/test_both_with_merchant_info.txt 合并后的数据大小（行，列）: (65, 8)\n",
      "合并后数据的前三行:\n",
      "   apply_id      merchant_id           apply_date  lend_amount  lend_period  \\\n",
      "0  51179153  741067405523374  2018-05-23 00:00:00      50000.0            4   \n",
      "1  51727931   72468430993589  2018-05-28 00:00:00       5000.0            6   \n",
      "2  49518154  120072423392034  2018-05-02 00:00:00      50000.0           12   \n",
      "\n",
      "   industry_level1  province  store_count  \n",
      "0                2         1            1  \n",
      "1                2         1            1  \n",
      "2                1         1            1  \n",
      "测试1/test_combined_with_merchant_info.txt 合并前的数据大小（行，列）: (400, 7)\n",
      "合并前数据的前三行:\n",
      "   apply_id      merchant_id           apply_date  lend_amount  lend_period  \\\n",
      "0  50557025   40407382055696  2018-05-14 00:00:00       3000.0           12   \n",
      "1  49510913  233357058121933  2018-05-01 00:00:00      10000.0            6   \n",
      "2  50782824  295347911545545  2018-05-19 00:00:00       5000.0            3   \n",
      "\n",
      "   industry_level1  province  \n",
      "0                1         2  \n",
      "1                2         1  \n",
      "2                2         1  \n",
      "测试1/test_combined_with_merchant_info.txt 合并后的数据大小（行，列）: (400, 8)\n",
      "合并后数据的前三行:\n",
      "   apply_id      merchant_id           apply_date  lend_amount  lend_period  \\\n",
      "0  50557025   40407382055696  2018-05-14 00:00:00       3000.0           12   \n",
      "1  49510913  233357058121933  2018-05-01 00:00:00      10000.0            6   \n",
      "2  50782824  295347911545545  2018-05-19 00:00:00       5000.0            3   \n",
      "\n",
      "   industry_level1  province  store_count  \n",
      "0                1         2            1  \n",
      "1                2         1            1  \n",
      "2                2         1            1  \n"
     ]
    }
   ],
   "source": [
    "import pandas as pd\n",
    "\n",
    "# 加载商户-店铺数据并确保merchant_id唯一\n",
    "store_data = pd.read_csv('商户-店铺/merchant_count.txt')\n",
    "store_data = store_data.drop_duplicates(subset=['merchant_id'], keep='first')\n",
    "\n",
    "# 测试文件路径\n",
    "test_files = [\n",
    "    '测试1/test_both_with_merchant_info.txt',\n",
    "    '测试1/test_combined_with_merchant_info.txt'\n",
    "]\n",
    "\n",
    "# 处理每个测试文件\n",
    "for test_file in test_files:\n",
    "    # 读取测试数据\n",
    "    test_data = pd.read_csv(test_file)\n",
    "    \n",
    "    # 确保测试数据中的merchant_id在商户-店铺数据中能找到\n",
    "    test_data = test_data[test_data['merchant_id'].isin(store_data['merchant_id'])]\n",
    "\n",
    "    # 显示合并前的数据大小和前三行\n",
    "    print(f\"{test_file} 合并前的数据大小（行，列）:\", test_data.shape)\n",
    "    print(\"合并前数据的前三行:\")\n",
    "    print(test_data.head(3))\n",
    "\n",
    "    # 使用左合并\n",
    "    merged_data = pd.merge(test_data, store_data[['merchant_id', 'store_count']], on='merchant_id', how='left')\n",
    "    \n",
    "    # 转换store_count列的数据类型为整数，处理可能的NaN值\n",
    "    merged_data['store_count'] = merged_data['store_count'].fillna(0).astype(int)\n",
    "\n",
    "    # 显示合并后的数据大小和前三行\n",
    "    print(f\"{test_file} 合并后的数据大小（行，列）:\", merged_data.shape)\n",
    "    print(\"合并后数据的前三行:\")\n",
    "    print(merged_data.head(3))\n",
    "    \n",
    "    # 保存更新后的数据\n",
    "    merged_data.to_csv(f\"{test_file.replace('info.txt', 'info_with_store_count.txt')}\", index=False)\n"
   ]
  },
  {
   "attachments": {},
   "cell_type": "markdown",
   "metadata": {},
   "source": [
    "#####  训练数据"
   ]
  },
  {
   "cell_type": "code",
   "execution_count": 22,
   "metadata": {},
   "outputs": [
    {
     "name": "stdout",
     "output_type": "stream",
     "text": [
      "训练1/train_both_with_merchant_info.txt 合并前的数据大小（行，列）: (164, 8)\n",
      "合并前数据的前三行:\n",
      "   apply_id      merchant_id           apply_date  lend_amount  lend_period  \\\n",
      "0  52849963  934378057859389  2018-06-08 00:00:00      50000.0            3   \n",
      "1  51968426  671059822241463  2018-06-01 00:00:00       5000.0           12   \n",
      "2  50007193  581824784033132  2018-05-08 00:00:00      45000.0            4   \n",
      "\n",
      "   is_30days_overdue  industry_level1  province  \n",
      "0                  0                1         2  \n",
      "1                  1                1         2  \n",
      "2                  0                1         2  \n",
      "训练1/train_both_with_merchant_info.txt 合并后的数据大小（行，列）: (164, 9)\n",
      "合并后数据的前三行:\n",
      "   apply_id      merchant_id           apply_date  lend_amount  lend_period  \\\n",
      "0  52849963  934378057859389  2018-06-08 00:00:00      50000.0            3   \n",
      "1  51968426  671059822241463  2018-06-01 00:00:00       5000.0           12   \n",
      "2  50007193  581824784033132  2018-05-08 00:00:00      45000.0            4   \n",
      "\n",
      "   is_30days_overdue  industry_level1  province  store_count  \n",
      "0                  0                1         2            1  \n",
      "1                  1                1         2            1  \n",
      "2                  0                1         2            1  \n",
      "更新后的数据已保存到 训练1/train_both_with_merchant_info_with_store_count.txt\n",
      "训练1/train_combined_with_merchant_info.txt 合并前的数据大小（行，列）: (910, 8)\n",
      "合并前数据的前三行:\n",
      "   apply_id      merchant_id           apply_date  lend_amount  lend_period  \\\n",
      "0  53143959  408215340609460  2018-06-11 00:00:00      50000.0           12   \n",
      "1  52485335  869864018479063  2018-06-06 00:00:00      50000.0           12   \n",
      "2  53143906  126255549518741  2018-06-11 00:00:00      20000.0            6   \n",
      "\n",
      "   is_30days_overdue  industry_level1  province  \n",
      "0                  0                1         1  \n",
      "1                  0                1         1  \n",
      "2                  1                1         1  \n",
      "训练1/train_combined_with_merchant_info.txt 合并后的数据大小（行，列）: (910, 9)\n",
      "合并后数据的前三行:\n",
      "   apply_id      merchant_id           apply_date  lend_amount  lend_period  \\\n",
      "0  53143959  408215340609460  2018-06-11 00:00:00      50000.0           12   \n",
      "1  52485335  869864018479063  2018-06-06 00:00:00      50000.0           12   \n",
      "2  53143906  126255549518741  2018-06-11 00:00:00      20000.0            6   \n",
      "\n",
      "   is_30days_overdue  industry_level1  province  store_count  \n",
      "0                  0                1         1            1  \n",
      "1                  0                1         1            1  \n",
      "2                  1                1         1            1  \n",
      "更新后的数据已保存到 训练1/train_combined_with_merchant_info_with_store_count.txt\n"
     ]
    }
   ],
   "source": [
    "import pandas as pd\n",
    "\n",
    "# 加载商户-店铺数据并确保merchant_id唯一\n",
    "store_data = pd.read_csv('商户-店铺/merchant_count.txt')\n",
    "store_data = store_data.drop_duplicates(subset=['merchant_id'], keep='first')\n",
    "\n",
    "# 训练文件路径\n",
    "train_files = [\n",
    "    '训练1/train_both_with_merchant_info.txt',\n",
    "    '训练1/train_combined_with_merchant_info.txt'\n",
    "]\n",
    "\n",
    "# 处理每个训练文件\n",
    "for train_file in train_files:\n",
    "    # 读取训练数据\n",
    "    train_data = pd.read_csv(train_file)\n",
    "    \n",
    "    # 确保训练数据中的merchant_id在商户-店铺数据中能找到\n",
    "    train_data = train_data[train_data['merchant_id'].isin(store_data['merchant_id'])]\n",
    "\n",
    "    # 显示合并前的数据大小和前三行\n",
    "    print(f\"{train_file} 合并前的数据大小（行，列）:\", train_data.shape)\n",
    "    print(\"合并前数据的前三行:\")\n",
    "    print(train_data.head(3))\n",
    "\n",
    "    # 使用左合并\n",
    "    merged_data = pd.merge(train_data, store_data[['merchant_id', 'store_count']], on='merchant_id', how='left')\n",
    "    \n",
    "    # 转换store_count列的数据类型为整数，处理可能的NaN值\n",
    "    merged_data['store_count'] = merged_data['store_count'].fillna(0).astype(int)\n",
    "\n",
    "    # 显示合并后的数据大小和前三行\n",
    "    print(f\"{train_file} 合并后的数据大小（行，列）:\", merged_data.shape)\n",
    "    print(\"合并后数据的前三行:\")\n",
    "    print(merged_data.head(3))\n",
    "    \n",
    "    # 保存更新后的数据\n",
    "    new_file_name = train_file.replace('info.txt', 'info_with_store_count.txt')\n",
    "    merged_data.to_csv(new_file_name, index=False)\n",
    "\n",
    "    print(f\"更新后的数据已保存到 {new_file_name}\")\n"
   ]
  },
  {
   "attachments": {},
   "cell_type": "markdown",
   "metadata": {},
   "source": [
    "### 4、统计每个商户关联的店铺被抛出的次数"
   ]
  },
  {
   "attachments": {},
   "cell_type": "markdown",
   "metadata": {},
   "source": [
    "#### 新特征 pt_count_all"
   ]
  },
  {
   "cell_type": "code",
   "execution_count": 10,
   "metadata": {},
   "outputs": [
    {
     "name": "stdout",
     "output_type": "stream",
     "text": [
      "抛出点数据/table_throwpoint_test.txt 的数据量为: 6815行\n",
      "抛出点数据/table_throwpoint_training.txt 的数据量为: 6733行\n",
      "合并后的总数据量为: 13548行\n",
      "去重后的总数据量为: 13548行\n"
     ]
    }
   ],
   "source": [
    "import pandas as pd\n",
    "\n",
    "# 文件路径\n",
    "file_paths = [\n",
    "    '抛出点数据/table_throwpoint_test.txt',\n",
    "    '抛出点数据/table_throwpoint_training.txt']\n",
    "\n",
    "# 读取数据并打印各个文件的数据量\n",
    "dataframes = []\n",
    "for file in file_paths:\n",
    "    df = pd.read_csv(file)\n",
    "    print(f\"{file} 的数据量为: {df.shape[0]}行\")\n",
    "    dataframes.append(df)\n",
    "\n",
    "# 合并数据\n",
    "combined_df = pd.concat(dataframes, ignore_index=True)\n",
    "print(f\"合并后的总数据量为: {combined_df.shape[0]}行\")\n",
    "\n",
    "# 去重数据\n",
    "unique_df = combined_df.drop_duplicates()\n",
    "print(f\"去重后的总数据量为: {unique_df.shape[0]}行\")\n",
    "\n",
    "# 保存合并且去重后的数据到新文件\n",
    "unique_df.to_csv('抛出点数据/combined.txt', index=False)\n"
   ]
  },
  {
   "attachments": {},
   "cell_type": "markdown",
   "metadata": {},
   "source": [
    "#### 4.1 查看有店铺被抛出好几次的情况，决定用计数处理这个文件"
   ]
  },
  {
   "cell_type": "code",
   "execution_count": 24,
   "metadata": {},
   "outputs": [
    {
     "name": "stdout",
     "output_type": "stream",
     "text": [
      "存在 3512 个store_id对应多个不同的pt。\n",
      "以下是一些有多个pt对应的store_id及其计数：\n",
      "store_id\n",
      "222875327743     4\n",
      "408693962279     3\n",
      "1254938114014    4\n",
      "1280226055936    2\n",
      "1551164535618    7\n",
      "Name: pt, dtype: int64\n"
     ]
    }
   ],
   "source": [
    "import pandas as pd\n",
    "\n",
    "# 读取数据文件\n",
    "file_path = '抛出点数据/combined.txt'\n",
    "data = pd.read_csv(file_path)\n",
    "\n",
    "# 统计每个store_id的不同pt的数量\n",
    "store_id_pt_counts = data.groupby('store_id')['pt'].nunique()\n",
    "\n",
    "# 找出有多个不同pt的store_id\n",
    "multiple_pts_store_ids = store_id_pt_counts[store_id_pt_counts > 1]\n",
    "\n",
    "# 打印这些store_id的数量\n",
    "print(f\"存在 {len(multiple_pts_store_ids)} 个store_id对应多个不同的pt。\")\n",
    "\n",
    "# 打印出几个示例\n",
    "print(\"以下是一些有多个pt对应的store_id及其计数：\")\n",
    "print(multiple_pts_store_ids.head())  # 打印前几个示例\n"
   ]
  },
  {
   "cell_type": "code",
   "execution_count": 25,
   "metadata": {},
   "outputs": [
    {
     "name": "stdout",
     "output_type": "stream",
     "text": [
      "已添加pt_count字段，并将数据保存到新文件 '抛出点数据/combined_with_pt_counts.txt'。\n"
     ]
    }
   ],
   "source": [
    "import pandas as pd\n",
    "\n",
    "# 读取数据文件\n",
    "file_path = '抛出点数据/combined.txt'\n",
    "data = pd.read_csv(file_path)\n",
    "\n",
    "# 统计每个store_id的不同pt的数量\n",
    "store_id_pt_counts = data.groupby('store_id')['pt'].nunique().reset_index(name='pt_count')\n",
    "\n",
    "# 合并pt计数到原始数据中\n",
    "data_with_pt_count = pd.merge(data, store_id_pt_counts, on='store_id', how='left')\n",
    "\n",
    "# 保存到新文件\n",
    "output_file_path = '抛出点数据/combined_with_pt_counts.txt'\n",
    "data_with_pt_count.to_csv(output_file_path, index=False)\n",
    "\n",
    "print(f\"已添加pt_count字段，并将数据保存到新文件 '{output_file_path}'。\")\n"
   ]
  },
  {
   "cell_type": "code",
   "execution_count": 26,
   "metadata": {},
   "outputs": [
    {
     "name": "stdout",
     "output_type": "stream",
     "text": [
      "pt_count 不等于1的不同的store_id有 3512 个。\n",
      "修改后再检查pt_count不等于1的行数: 0\n"
     ]
    }
   ],
   "source": [
    "#对于pt_count不等于1的不同的store_id，修改它对应的pt_count为1，再保存到原文件\n",
    "\n",
    "import pandas as pd\n",
    "\n",
    "# 读取数据文件\n",
    "data_path = '抛出点数据/combined_with_pt_counts.txt'\n",
    "data = pd.read_csv(data_path)\n",
    "\n",
    "# 筛选 pt_count 不等于1的行\n",
    "data_filtered = data[data['pt_count'] != 1]\n",
    "\n",
    "# 获取不等于1的不同store_id的数量\n",
    "unique_store_ids = data_filtered['store_id'].nunique()\n",
    "\n",
    "# 打印结果\n",
    "print(f\"pt_count 不等于1的不同的store_id有 {unique_store_ids} 个。\")\n",
    "\n",
    "# 修改 pt_count 不等于1的所有store_id的pt_count为1\n",
    "data.loc[data['pt_count'] != 1, 'pt_count'] = 1\n",
    "\n",
    "# 保存修改后的数据到原文件\n",
    "data.to_csv(data_path, index=False)\n",
    "\n",
    "# 再次加载数据并确认修改\n",
    "data_reloaded = pd.read_csv(data_path)\n",
    "print(f\"修改后再检查pt_count不等于1的行数: {data_reloaded[data_reloaded['pt_count'] != 1].shape[0]}\")\n"
   ]
  },
  {
   "attachments": {},
   "cell_type": "markdown",
   "metadata": {},
   "source": [
    "#### 4.2 把store对应的merchent_id加上去"
   ]
  },
  {
   "cell_type": "code",
   "execution_count": 27,
   "metadata": {},
   "outputs": [
    {
     "name": "stdout",
     "output_type": "stream",
     "text": [
      "在抛出点数据中有 0 个store_id无法在商户-店铺数据中找到。\n"
     ]
    }
   ],
   "source": [
    "import pandas as pd\n",
    "\n",
    "# 读取抛出点数据\n",
    "data_path = '抛出点数据/combined_with_pt_counts.txt'\n",
    "data_combined = pd.read_csv(data_path)\n",
    "\n",
    "# 读取商户-店铺数据\n",
    "merchant_path = '商户-店铺/merchant_store_count.txt'\n",
    "merchant_data = pd.read_csv(merchant_path)\n",
    "\n",
    "# 获取两个文件中的store_id集合\n",
    "data_store_ids = set(data_combined['store_id'])\n",
    "merchant_store_ids = set(merchant_data['store_id'])\n",
    "\n",
    "# 找出在data_combined中但不在merchant_data中的store_id\n",
    "unmatched_store_ids = data_store_ids - merchant_store_ids\n",
    "\n",
    "# 打印未匹配的store_id数量\n",
    "print(f\"在抛出点数据中有 {len(unmatched_store_ids)} 个store_id无法在商户-店铺数据中找到。\")\n"
   ]
  },
  {
   "cell_type": "code",
   "execution_count": 28,
   "metadata": {},
   "outputs": [
    {
     "name": "stdout",
     "output_type": "stream",
     "text": [
      "已将merchant_id添加到数据中，并保存在 '抛出点数据/combined_with_merchant.txt'。\n"
     ]
    }
   ],
   "source": [
    "import pandas as pd\n",
    "\n",
    "# 读取抛出点数据\n",
    "data_path = '抛出点数据/combined_with_pt_counts.txt'\n",
    "data_combined = pd.read_csv(data_path)\n",
    "\n",
    "# 读取商户-店铺数据\n",
    "merchant_path = '商户-店铺/merchant_store_count.txt'\n",
    "merchant_data = pd.read_csv(merchant_path)\n",
    "\n",
    "# 假设商户-店铺文件包含 store_id 和 merchant_id 字段\n",
    "# 根据 store_id 合并数据，添加 merchant_id\n",
    "data_with_merchant = pd.merge(data_combined, merchant_data[['store_id', 'merchant_id']], on='store_id', how='left')\n",
    "\n",
    "# 保存到新文件\n",
    "output_file_path = '抛出点数据/combined_with_merchant.txt'\n",
    "data_with_merchant.to_csv(output_file_path, index=False)\n",
    "\n",
    "print(f\"已将merchant_id添加到数据中，并保存在 '{output_file_path}'。\")\n"
   ]
  },
  {
   "attachments": {},
   "cell_type": "markdown",
   "metadata": {},
   "source": [
    "#### 4.3 计算每个merchant_id下的所有store_id的pt_count总和，即该商户旗下的所有店铺一共被抛出多少次"
   ]
  },
  {
   "cell_type": "code",
   "execution_count": 29,
   "metadata": {},
   "outputs": [
    {
     "name": "stdout",
     "output_type": "stream",
     "text": [
      "文件中有 4593 个不同的merchant_id。\n"
     ]
    }
   ],
   "source": [
    "import pandas as pd\n",
    "\n",
    "# 读取数据文件\n",
    "data_path = '抛出点数据/combined_with_merchant.txt'\n",
    "data = pd.read_csv(data_path)\n",
    "\n",
    "# 计算不同的merchant_id的数量\n",
    "unique_merchant_ids = data['merchant_id'].nunique()\n",
    "\n",
    "# 打印结果\n",
    "print(f\"文件中有 {unique_merchant_ids} 个不同的merchant_id。\")\n"
   ]
  },
  {
   "cell_type": "code",
   "execution_count": 30,
   "metadata": {},
   "outputs": [
    {
     "name": "stdout",
     "output_type": "stream",
     "text": [
      "已处理数据，并保存到 '抛出点数据/pt_final.txt'。\n"
     ]
    }
   ],
   "source": [
    "import pandas as pd\n",
    "\n",
    "# 读取数据文件\n",
    "data_path = '抛出点数据/combined_with_merchant.txt'\n",
    "data = pd.read_csv(data_path)\n",
    "\n",
    "# 删除重复的store_id行，只保留一个\n",
    "data_unique_store_id = data.drop_duplicates(subset='store_id')\n",
    "\n",
    "# 计算每个merchant_id的pt_count总和\n",
    "pt_count_all = data.groupby('merchant_id')['pt_count'].sum().reset_index()\n",
    "pt_count_all.rename(columns={'pt_count': 'pt_count_all'}, inplace=True)\n",
    "\n",
    "# 合并pt_count_all回到去重后的数据中\n",
    "data_final = pd.merge(data_unique_store_id, pt_count_all, on='merchant_id', how='left')\n",
    "\n",
    "# 保存到新文件\n",
    "output_file_path = '抛出点数据/pt_final.txt'\n",
    "data_final.to_csv(output_file_path, index=False)\n",
    "\n",
    "print(f\"已处理数据，并保存到 '{output_file_path}'。\")\n"
   ]
  },
  {
   "cell_type": "code",
   "execution_count": 31,
   "metadata": {},
   "outputs": [
    {
     "name": "stdout",
     "output_type": "stream",
     "text": [
      "4593\n",
      "处理后的数据已保存到 '抛出点数据/pt.txt'。\n"
     ]
    }
   ],
   "source": [
    "import pandas as pd\n",
    "\n",
    "# 读取抛出点数据文件\n",
    "data_path = '抛出点数据/pt_final.txt'\n",
    "data = pd.read_csv(data_path)\n",
    "\n",
    "# 删除 store_id 和 pt 字段\n",
    "data.drop(['store_id', 'pt','pt_count'], axis=1, inplace=True)\n",
    "\n",
    "# 对 merchant_id 进行降重，只保留第一次出现的行\n",
    "data_unique = data.drop_duplicates(subset='merchant_id')\n",
    "\n",
    "# 保存到新文件\n",
    "output_file_path = '抛出点数据/pt.txt'\n",
    "data_unique.to_csv(output_file_path, index=False)\n",
    "print(data_unique.shape[0])\n",
    "print(f\"处理后的数据已保存到 '{output_file_path}'。\")\n"
   ]
  },
  {
   "cell_type": "code",
   "execution_count": 32,
   "metadata": {},
   "outputs": [
    {
     "name": "stdout",
     "output_type": "stream",
     "text": [
      "测试1/test_both_with_merchant_info_with_store_count.txt 中不能找到的merchant_id数量为: 41\n",
      "测试1/test_combined_with_merchant_info_with_store_count.txt 中不能找到的merchant_id数量为: 222\n",
      "测试1/test_history_with_merchant_info.txt 中不能找到的merchant_id数量为: 9\n",
      "测试1/test_neither_with_merchant_info.txt 中不能找到的merchant_id数量为: 27\n"
     ]
    }
   ],
   "source": [
    "import pandas as pd\n",
    "\n",
    "# 文件路径\n",
    "test_files = [\n",
    "    '测试1/test_both_with_merchant_info_with_store_count.txt',\n",
    "    '测试1/test_combined_with_merchant_info_with_store_count.txt',\n",
    "    '测试1/test_history_with_merchant_info.txt',\n",
    "    '测试1/test_neither_with_merchant_info.txt'\n",
    "]\n",
    "merchant_count_file = '抛出点数据/pt.txt'\n",
    "\n",
    "# 读取商户ID数据\n",
    "merchant_count_df = pd.read_csv(merchant_count_file)\n",
    "merchant_ids_set = set(merchant_count_df['merchant_id'])\n",
    "\n",
    "# 分别处理每个测试文件\n",
    "for test_file in test_files:\n",
    "    test_df = pd.read_csv(test_file)\n",
    "    # 计算不能在merchant_count.txt中找到的merchant_id数量\n",
    "    missing_count = test_df[~test_df['merchant_id'].isin(merchant_ids_set)].shape[0]\n",
    "    print(f\"{test_file} 中不能找到的merchant_id数量为: {missing_count}\")\n"
   ]
  },
  {
   "cell_type": "code",
   "execution_count": 33,
   "metadata": {},
   "outputs": [
    {
     "name": "stdout",
     "output_type": "stream",
     "text": [
      "训练1/train_both_with_merchant_info_with_store_count.txt 中不能找到的merchant_id数量为: 102\n",
      "训练1/train_combined_with_merchant_info_with_store_count.txt 中不能找到的merchant_id数量为: 531\n",
      "训练1/train_history_with_merchant_info.txt 中不能找到的merchant_id数量为: 31\n",
      "训练1/train_neither_with_merchant_info.txt 中不能找到的merchant_id数量为: 66\n"
     ]
    },
    {
     "ename": "",
     "evalue": "",
     "output_type": "error",
     "traceback": [
      "\u001b[1;31m在当前单元格或上一个单元格中执行代码时 Kernel 崩溃。请查看单元格中的代码，以确定故障的可能原因。有关详细信息，请单击 <a href='https://aka.ms/vscodeJupyterKernelCrash'>此处</a>。有关更多详细信息，请查看 Jupyter <a href='command:jupyter.viewOutput'>log</a>。"
     ]
    }
   ],
   "source": [
    "import pandas as pd\n",
    "\n",
    "# 文件路径\n",
    "test_files = [\n",
    "    '训练1/train_both_with_merchant_info_with_store_count.txt',\n",
    "    '训练1/train_combined_with_merchant_info_with_store_count.txt',\n",
    "    '训练1/train_history_with_merchant_info.txt',\n",
    "    '训练1/train_neither_with_merchant_info.txt'\n",
    "]\n",
    "merchant_count_file = '抛出点数据/pt.txt'\n",
    "\n",
    "# 读取商户ID数据\n",
    "merchant_count_df = pd.read_csv(merchant_count_file)\n",
    "merchant_ids_set = set(merchant_count_df['merchant_id'])\n",
    "\n",
    "# 分别处理每个测试文件\n",
    "for test_file in test_files:\n",
    "    test_df = pd.read_csv(test_file)\n",
    "    # 计算不能在merchant_count.txt中找到的merchant_id数量\n",
    "    missing_count = test_df[~test_df['merchant_id'].isin(merchant_ids_set)].shape[0]\n",
    "    print(f\"{test_file} 中不能找到的merchant_id数量为: {missing_count}\")\n"
   ]
  },
  {
   "attachments": {},
   "cell_type": "markdown",
   "metadata": {},
   "source": [
    "#### 缺失的太多，pt_count_all特征放弃"
   ]
  }
 ],
 "metadata": {
  "kernelspec": {
   "display_name": "base",
   "language": "python",
   "name": "python3"
  },
  "language_info": {
   "codemirror_mode": {
    "name": "ipython",
    "version": 3
   },
   "file_extension": ".py",
   "mimetype": "text/x-python",
   "name": "python",
   "nbconvert_exporter": "python",
   "pygments_lexer": "ipython3",
   "version": "3.11.4"
  },
  "orig_nbformat": 4
 },
 "nbformat": 4,
 "nbformat_minor": 2
}
