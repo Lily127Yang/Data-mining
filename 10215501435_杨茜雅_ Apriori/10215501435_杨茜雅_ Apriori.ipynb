{
 "cells": [
  {
   "cell_type": "markdown",
   "id": "6cf0eb72-03e3-4ac8-9bf8-b5c25fb35922",
   "metadata": {},
   "source": [
    "## 基于Apriori算法完成Market Basket分析实验\n",
    "### --10215501435 杨茜雅"
   ]
  },
  {
   "cell_type": "markdown",
   "id": "8210544d-329a-4df9-8a69-ae8f60bff0e7",
   "metadata": {},
   "source": [
    "#### 数据：retail.xlsx"
   ]
  },
  {
   "cell_type": "markdown",
   "id": "90ea3b9e-b94f-48c7-809d-2fd958f60add",
   "metadata": {},
   "source": [
    "#### 1.Import Data & Data Preprocessing"
   ]
  },
  {
   "cell_type": "code",
   "execution_count": 1,
   "id": "8e2b5ec4-d030-485e-9912-bae225a1b1a3",
   "metadata": {},
   "outputs": [
    {
     "name": "stdout",
     "output_type": "stream",
     "text": [
      "Year 2009-2010 dataframe:\n",
      "\n",
      "  Invoice StockCode                          Description  Quantity  \\\n",
      "0  489434     85048  15CM CHRISTMAS GLASS BALL 20 LIGHTS        12   \n",
      "1  489434    79323P                   PINK CHERRY LIGHTS        12   \n",
      "2  489434    79323W                  WHITE CHERRY LIGHTS        12   \n",
      "3  489434     22041         RECORD FRAME 7\" SINGLE SIZE         48   \n",
      "4  489434     21232       STRAWBERRY CERAMIC TRINKET BOX        24   \n",
      "\n",
      "          InvoiceDate  Price  Customer ID         Country  \n",
      "0 2009-12-01 07:45:00   6.95      13085.0  United Kingdom  \n",
      "1 2009-12-01 07:45:00   6.75      13085.0  United Kingdom  \n",
      "2 2009-12-01 07:45:00   6.75      13085.0  United Kingdom  \n",
      "3 2009-12-01 07:45:00   2.10      13085.0  United Kingdom  \n",
      "4 2009-12-01 07:45:00   1.25      13085.0  United Kingdom  \n",
      "Number of instances (rows): 525461\n",
      "Number of attributes (columns): 8\n",
      "Column names: ['Invoice', 'StockCode', 'Description', 'Quantity', 'InvoiceDate', 'Price', 'Customer ID', 'Country']\n",
      "\n",
      "Year 2010-2011 dataframe:\n",
      "\n",
      "  Invoice StockCode                          Description  Quantity  \\\n",
      "0  536365    85123A   WHITE HANGING HEART T-LIGHT HOLDER         6   \n",
      "1  536365     71053                  WHITE METAL LANTERN         6   \n",
      "2  536365    84406B       CREAM CUPID HEARTS COAT HANGER         8   \n",
      "3  536365    84029G  KNITTED UNION FLAG HOT WATER BOTTLE         6   \n",
      "4  536365    84029E       RED WOOLLY HOTTIE WHITE HEART.         6   \n",
      "\n",
      "          InvoiceDate  Price  Customer ID         Country  \n",
      "0 2010-12-01 08:26:00   2.55      17850.0  United Kingdom  \n",
      "1 2010-12-01 08:26:00   3.39      17850.0  United Kingdom  \n",
      "2 2010-12-01 08:26:00   2.75      17850.0  United Kingdom  \n",
      "3 2010-12-01 08:26:00   3.39      17850.0  United Kingdom  \n",
      "4 2010-12-01 08:26:00   3.39      17850.0  United Kingdom  \n",
      "Number of instances (rows): 541910\n",
      "Number of attributes (columns): 8\n",
      "Column names: ['Invoice', 'StockCode', 'Description', 'Quantity', 'InvoiceDate', 'Price', 'Customer ID', 'Country']\n",
      "\n"
     ]
    }
   ],
   "source": [
    "# 第一部分：Import Data & Data Preprocessing\n",
    "import pandas as pd\n",
    "import matplotlib.pyplot as plt\n",
    "\n",
    "# 1. 导入数据\n",
    "df_1 = pd.read_excel('retail.xlsx', sheet_name='Year 2009-2010')  # 替换为实际的工作表名称\n",
    "df_2 = pd.read_excel('retail.xlsx', sheet_name='Year 2010-2011')  # 替换为实际的工作表名称\n",
    "# Print the first few rows of the dataframe\n",
    "print(\"Year 2009-2010 dataframe:\\n\")\n",
    "print(df_1.head())\n",
    "print(\"Number of instances (rows):\", df_1.shape[0])\n",
    "print(\"Number of attributes (columns):\", df_1.shape[1])\n",
    "print(\"Column names:\", df_1.columns.tolist())\n",
    "print()\n",
    "\n",
    "print(\"Year 2010-2011 dataframe:\\n\")\n",
    "print(df_2.head())\n",
    "print(\"Number of instances (rows):\", df_2.shape[0])\n",
    "print(\"Number of attributes (columns):\", df_2.shape[1])\n",
    "print(\"Column names:\", df_2.columns.tolist())\n",
    "print()"
   ]
  },
  {
   "cell_type": "code",
   "execution_count": 2,
   "id": "64030bef-bdd2-404b-96b8-120820885fea",
   "metadata": {},
   "outputs": [
    {
     "name": "stdout",
     "output_type": "stream",
     "text": [
      "Missing values in sheet1:\n",
      " Invoice             0\n",
      "StockCode           0\n",
      "Description      2928\n",
      "Quantity            0\n",
      "InvoiceDate         0\n",
      "Price               0\n",
      "Customer ID    107927\n",
      "Country             0\n",
      "dtype: int64\n",
      "\n",
      "Missing values in sheet2:\n",
      " Invoice             0\n",
      "StockCode           0\n",
      "Description      1454\n",
      "Quantity            0\n",
      "InvoiceDate         0\n",
      "Price               0\n",
      "Customer ID    135080\n",
      "Country             0\n",
      "dtype: int64\n"
     ]
    }
   ],
   "source": [
    "# 2. 查看数据信息，包括每列的缺失值数量\n",
    "missing_values_1 = df_1.isnull().sum()\n",
    "missing_values_2 = df_2.isnull().sum()\n",
    "print(\"Missing values in sheet1:\\n\", missing_values_1)\n",
    "print()\n",
    "print(\"Missing values in sheet2:\\n\", missing_values_2)"
   ]
  },
  {
   "cell_type": "code",
   "execution_count": 3,
   "id": "3304347d-8fd8-477e-825c-c591978a50a1",
   "metadata": {},
   "outputs": [
    {
     "name": "stdout",
     "output_type": "stream",
     "text": [
      "Year 2009-2010 dataframe:\n",
      "Number of rows before dropping missing values: 525461\n",
      "Number of rows after dropping missing values: 417534\n",
      "\n",
      "Year 2010-2011 dataframe:\n",
      "Number of rows before dropping missing values: 541910\n",
      "Number of rows after dropping missing values: 406830\n",
      "\n",
      "检查一下:\n",
      "Missing values in sheet1:\n",
      " Invoice        0\n",
      "StockCode      0\n",
      "Description    0\n",
      "Quantity       0\n",
      "InvoiceDate    0\n",
      "Price          0\n",
      "Customer ID    0\n",
      "Country        0\n",
      "dtype: int64\n",
      "\n",
      "Missing values in sheet2:\n",
      " Invoice        0\n",
      "StockCode      0\n",
      "Description    0\n",
      "Quantity       0\n",
      "InvoiceDate    0\n",
      "Price          0\n",
      "Customer ID    0\n",
      "Country        0\n",
      "dtype: int64\n",
      "目前无缺失值\n"
     ]
    }
   ],
   "source": [
    "# 3. 删除有缺失值的行\n",
    "num_rows_before_1 = df_1.shape[0]\n",
    "num_rows_before_2 = df_2.shape[0]\n",
    "df_1.dropna(inplace=True)\n",
    "df_2.dropna(inplace=True)\n",
    "\n",
    "num_rows_after_1 = df_1.shape[0]\n",
    "num_rows_after_2 = df_2.shape[0]\n",
    "print(\"Year 2009-2010 dataframe:\")\n",
    "print(f\"Number of rows before dropping missing values: {num_rows_before_1}\")\n",
    "print(f\"Number of rows after dropping missing values: {num_rows_after_1}\")\n",
    "\n",
    "print()\n",
    "print(\"Year 2010-2011 dataframe:\")\n",
    "print(f\"Number of rows before dropping missing values: {num_rows_before_2}\")\n",
    "print(f\"Number of rows after dropping missing values: {num_rows_after_2}\")\n",
    "\n",
    "print()\n",
    "print(\"检查一下:\")\n",
    "missing_values_1 = df_1.isnull().sum()\n",
    "missing_values_2 = df_2.isnull().sum()\n",
    "print(\"Missing values in sheet1:\\n\", missing_values_1)\n",
    "print()\n",
    "print(\"Missing values in sheet2:\\n\", missing_values_2)\n",
    "print(\"目前无缺失值\")"
   ]
  },
  {
   "cell_type": "code",
   "execution_count": 4,
   "id": "63e850cc-1d4c-45c4-b514-aa30e1b14e45",
   "metadata": {},
   "outputs": [
    {
     "name": "stdout",
     "output_type": "stream",
     "text": [
      "Year 2009-2010 dataframe:\n",
      "\n",
      "Number of rows before dropping cancelled transactions: 417534\n",
      "Year 2009-2010 Cancelled transactions count: 9839\n",
      "Number of rows after dropping cancelled transactions: 407695\n",
      "\n",
      "Year 2010-2011 dataframe:\n",
      "\n",
      "Number of rows before dropping cancelled transactions: 406830\n",
      "Year 2010-2011 Cancelled transactions count: 8905\n",
      "Number of rows after dropping cancelled transactions: 397925\n"
     ]
    }
   ],
   "source": [
    "# 4. 确定并删除已取消的交易\n",
    "\n",
    "print(\"Year 2009-2010 dataframe:\\n\")\n",
    "num_rows_before_1 = df_1.shape[0]\n",
    "print(f\"Number of rows before dropping cancelled transactions: {num_rows_before_1}\")\n",
    "cancelled_transactions_1 = df_1[df_1['Invoice'].astype(str).str.contains('C', na=False)]\n",
    "print(\"Year 2009-2010 Cancelled transactions count:\", cancelled_transactions_1.shape[0])\n",
    "df_1 = df_1[~df_1['Invoice'].astype(str).str.contains('C', na=False)]\n",
    "num_rows_after_1 = df_1.shape[0]\n",
    "print(f\"Number of rows after dropping cancelled transactions: {num_rows_after_1}\")\n",
    "print()\n",
    "\n",
    "\n",
    "print(\"Year 2010-2011 dataframe:\\n\")\n",
    "num_rows_before_2 = df_2.shape[0]\n",
    "print(f\"Number of rows before dropping cancelled transactions: {num_rows_before_2}\")\n",
    "cancelled_transactions_1 = df_2[df_2['Invoice'].astype(str).str.contains('C', na=False)]\n",
    "print(\"Year 2010-2011 Cancelled transactions count:\", cancelled_transactions_1.shape[0])\n",
    "df_2 = df_2[~df_2['Invoice'].astype(str).str.contains('C', na=False)]\n",
    "num_rows_after_2 = df_2.shape[0]\n",
    "print(f\"Number of rows after dropping cancelled transactions: {num_rows_after_2}\")\n"
   ]
  },
  {
   "cell_type": "code",
   "execution_count": 5,
   "id": "7bc21c4a-a787-45be-8c96-f0b0b6346db3",
   "metadata": {},
   "outputs": [
    {
     "name": "stdout",
     "output_type": "stream",
     "text": [
      "Year 2009-2010 percentiles in Quantity: [  1. 144.]\n",
      "Number of outliers in Quantity: 3251\n"
     ]
    },
    {
     "data": {
      "image/png": "[encoded data removed]",
      "text/plain": [
       "<Figure size 640x480 with 1 Axes>"
      ]
     },
     "metadata": {},
     "output_type": "display_data"
    },
    {
     "name": "stdout",
     "output_type": "stream",
     "text": [
      "Year 2009-2010 Number of outliers in Quantity after clipping: 0\n",
      "\n",
      "Year 2009-2010 percentiles in Price: [ 0.29 14.95]\n",
      "Number of outliers in Price: 6857\n"
     ]
    },
    {
     "data": {
      "image/png": "[encoded data removed]",
      "text/plain": [
       "<Figure size 640x480 with 1 Axes>"
      ]
     },
     "metadata": {},
     "output_type": "display_data"
    },
    {
     "name": "stdout",
     "output_type": "stream",
     "text": [
      "Year 2009-2010 Number of outliers in Price after clipping: 0\n",
      "\n"
     ]
    }
   ],
   "source": [
    "# 5. 异常值处理 Year 2009-2010\n",
    "import pandas as pd\n",
    "import matplotlib.pyplot as plt\n",
    "import numpy as np\n",
    "\n",
    "for column in ['Quantity', 'Price']:\n",
    "    \n",
    "    # 计算1%和99%的分位数\n",
    "    percentiles_1 = df_1[column].quantile([0.01, 0.99]).values\n",
    "    print(f\"Year 2009-2010 percentiles in {column}: {percentiles_1}\")\n",
    "    # 标记非异常值\n",
    "    non_outliers_1 = df_1[(df_1[column] >= percentiles_1[0]) & (df_1[column] <= percentiles_1[1])]\n",
    "    # 标记异常值\n",
    "    outliers_1 = df_1[(df_1[column] < percentiles_1[0]) | (df_1[column] > percentiles_1[1])]\n",
    "    \n",
    "    # 打印异常值数量\n",
    "    print(f\"Number of outliers in {column}: {outliers_1.shape[0]}\")\n",
    "    \n",
    "    # 绘制箱线图\n",
    "    df_1.boxplot(column)\n",
    "    plt.title(f'Year 2009-2010 {column} Distribution with Outliers Highlighted')\n",
    "    \n",
    "    # 在箱线图上叠加异常值点，使用不同的颜色标记异常值\n",
    "    plt.scatter(np.full_like(outliers_1[column], 1), outliers_1[column], color='red', marker='o', label='Outliers')\n",
    "    plt.scatter(np.full_like(non_outliers_1[column], 1), non_outliers_1[column], color='blue', marker='x', label='Non-Outliers')\n",
    "    \n",
    "    # 添加图例\n",
    "    plt.legend()\n",
    "    \n",
    "    plt.show()\n",
    "    \n",
    "    # 裁剪异常值\n",
    "    df_1[column] = df_1[column].clip(percentiles_1[0], percentiles_1[1])\n",
    "    \n",
    "    # 打印异常值数量（裁剪后）- 理论上应该为0，因为数据已被裁剪\n",
    "    outliers_after_1 = df_1[(df_1[column] < percentiles_1[0]) | (df_1[column] > percentiles_1[1])]\n",
    "    print(f\"Year 2009-2010 Number of outliers in {column} after clipping: {outliers_after_1.shape[0]}\")\n",
    "    print()\n",
    "   "
   ]
  },
  {
   "cell_type": "code",
   "execution_count": 6,
   "id": "e125062b-3888-437e-a7cd-db4958124ae5",
   "metadata": {},
   "outputs": [
    {
     "name": "stdout",
     "output_type": "stream",
     "text": [
      "Year 2010-2011 percentiles in Quantity: [  1. 120.]\n",
      "Number of outliers in Quantity: 3896\n"
     ]
    },
    {
     "data": {
      "image/png": "[encoded data removed]",
      "text/plain": [
       "<Figure size 640x480 with 1 Axes>"
      ]
     },
     "metadata": {},
     "output_type": "display_data"
    },
    {
     "name": "stdout",
     "output_type": "stream",
     "text": [
      "Year 2009-2010 Number of outliers in Quantity after clipping: 0\n",
      "\n",
      "Year 2010-2011 percentiles in Price: [ 0.21 14.95]\n",
      "Number of outliers in Price: 6766\n"
     ]
    },
    {
     "data": {
      "image/png": "[encoded data removed]",
      "text/plain": [
       "<Figure size 640x480 with 1 Axes>"
      ]
     },
     "metadata": {},
     "output_type": "display_data"
    },
    {
     "name": "stdout",
     "output_type": "stream",
     "text": [
      "Year 2009-2010 Number of outliers in Price after clipping: 0\n",
      "\n"
     ]
    }
   ],
   "source": [
    "# 5. 异常值处理  Year 2010-2011\n",
    "import pandas as pd\n",
    "import matplotlib.pyplot as plt\n",
    "import numpy as np\n",
    "\n",
    "for column in ['Quantity', 'Price']:\n",
    "    \n",
    "    # 计算1%和99%的分位数\n",
    "    percentiles_2 = df_2[column].quantile([0.01, 0.99]).values\n",
    "    print(f\"Year 2010-2011 percentiles in {column}: {percentiles_2}\")\n",
    "    # 标记非异常值\n",
    "    non_outliers_2 = df_2[(df_2[column] >= percentiles_2[0]) & (df_2[column] <= percentiles_2[1])]\n",
    "    # 标记异常值\n",
    "    outliers_2 = df_2[(df_2[column] < percentiles_2[0]) | (df_2[column] > percentiles_2[1])]\n",
    "    \n",
    "    # 打印异常值数量\n",
    "    print(f\"Number of outliers in {column}: {outliers_2.shape[0]}\")\n",
    "    \n",
    "    # 绘制箱线图\n",
    "    df_2.boxplot(column)\n",
    "    plt.title(f'Year 2010-2011 {column} Distribution with Outliers Highlighted')\n",
    "    \n",
    "    # 在箱线图上叠加异常值点，使用不同的颜色标记异常值\n",
    "    plt.scatter(np.full_like(outliers_2[column], 1), outliers_2[column], color='red', marker='o', label='Outliers')\n",
    "    plt.scatter(np.full_like(non_outliers_2[column], 1), non_outliers_2[column], color='blue', marker='x', label='Non-Outliers')\n",
    "    \n",
    "    # 添加图例\n",
    "    plt.legend()\n",
    "    \n",
    "    plt.show()\n",
    "    \n",
    "    # 裁剪异常值\n",
    "    df_2[column] = df_2[column].clip(percentiles_2[0], percentiles_2[1])\n",
    "    \n",
    "    # 打印异常值数量（裁剪后）- 理论上应该为0，因为数据已被裁剪\n",
    "    outliers_after_2 = df_2[(df_2[column] < percentiles_2[0]) | (df_2[column] > percentiles_2[1])]\n",
    "    print(f\"Year 2009-2010 Number of outliers in {column} after clipping: {outliers_after_2.shape[0]}\")\n",
    "    print()\n",
    "   "
   ]
  },
  {
   "cell_type": "code",
   "execution_count": 7,
   "id": "768ba078-0952-410b-a455-35bfec1a9d97",
   "metadata": {},
   "outputs": [
    {
     "name": "stdout",
     "output_type": "stream",
     "text": [
      "Year 2009-2010 dataframe:\n",
      "\n",
      "Number of rows before removing non-unique StockCode entries: 407695\n",
      "Year 2009-2010 Number of rows with non-unique StockCodes: 87045\n",
      "Year 2009-2010 Non-unique StockCodes and their Descriptions:\n",
      "        Invoice StockCode                         Description  Quantity  \\\n",
      "2       489434    79323W                 WHITE CHERRY LIGHTS        12   \n",
      "7       489434     21523  FANCY FONT HOME SWEET HOME DOORMAT        10   \n",
      "8       489435     22350                           CAT BOWL         12   \n",
      "9       489435     22349      DOG BOWL , CHASING BALL DESIGN        12   \n",
      "10      489435     22195        HEART MEASURING SPOONS LARGE        24   \n",
      "...        ...       ...                                 ...       ...   \n",
      "525434  538171     21156           RETROSPOT CHILDRENS APRON         1   \n",
      "525435  538171    47591D     PINK FAIRY CAKE CHILDRENS APRON         1   \n",
      "525436  538171    47591B            SCOTTIES CHILDRENS APRON         2   \n",
      "525437  538171     22899        CHILDREN'S APRON DOLLY GIRL          1   \n",
      "525441  538171     22837          HOT WATER BOTTLE BABUSHKA          2   \n",
      "\n",
      "               InvoiceDate  Price  Customer ID         Country  \n",
      "2      2009-12-01 07:45:00   6.75      13085.0  United Kingdom  \n",
      "7      2009-12-01 07:45:00   5.95      13085.0  United Kingdom  \n",
      "8      2009-12-01 07:46:00   2.55      13085.0  United Kingdom  \n",
      "9      2009-12-01 07:46:00   3.75      13085.0  United Kingdom  \n",
      "10     2009-12-01 07:46:00   1.65      13085.0  United Kingdom  \n",
      "...                    ...    ...          ...             ...  \n",
      "525434 2010-12-09 20:01:00   1.95      17530.0  United Kingdom  \n",
      "525435 2010-12-09 20:01:00   1.95      17530.0  United Kingdom  \n",
      "525436 2010-12-09 20:01:00   1.65      17530.0  United Kingdom  \n",
      "525437 2010-12-09 20:01:00   2.10      17530.0  United Kingdom  \n",
      "525441 2010-12-09 20:01:00   4.65      17530.0  United Kingdom  \n",
      "\n",
      "[87045 rows x 8 columns]\n",
      "Number of rows after removing non-unique StockCode entries:\n",
      " 320650\n",
      "\n",
      "Year 2010-2011 dataframe:\n",
      "\n",
      "Number of rows before removing non-unique StockCode entries: 397925\n",
      "Year 2010-2011 Number of rows with non-unique StockCodes: 38594\n",
      "Year 2010-2011 Non-unique StockCodes and their Descriptions:\n",
      "        Invoice StockCode                         Description  Quantity  \\\n",
      "0       536365    85123A  WHITE HANGING HEART T-LIGHT HOLDER         6   \n",
      "1       536365     71053                 WHITE METAL LANTERN         6   \n",
      "8       536366     22632           HAND WARMER RED POLKA DOT         6   \n",
      "40      536370     22900     SET 2 TEA TOWELS I LOVE LONDON         24   \n",
      "47      536372     22632           HAND WARMER RED POLKA DOT         6   \n",
      "...        ...       ...                                 ...       ...   \n",
      "541884  581585     84946        ANTIQUE SILVER T-LIGHT GLASS        12   \n",
      "541888  581585     23145      ZINC T-LIGHT HOLDER STAR LARGE        12   \n",
      "541889  581585     22466      FAIRY TALE COTTAGE NIGHT LIGHT        12   \n",
      "541903  581587     23256         CHILDRENS CUTLERY SPACEBOY          4   \n",
      "541906  581587     23254       CHILDRENS CUTLERY DOLLY GIRL          4   \n",
      "\n",
      "               InvoiceDate  Price  Customer ID         Country  \n",
      "0      2010-12-01 08:26:00   2.55      17850.0  United Kingdom  \n",
      "1      2010-12-01 08:26:00   3.39      17850.0  United Kingdom  \n",
      "8      2010-12-01 08:28:00   1.85      17850.0  United Kingdom  \n",
      "40     2010-12-01 08:45:00   2.95      12583.0          France  \n",
      "47     2010-12-01 09:01:00   1.85      17850.0  United Kingdom  \n",
      "...                    ...    ...          ...             ...  \n",
      "541884 2011-12-09 12:31:00   1.25      15804.0  United Kingdom  \n",
      "541888 2011-12-09 12:31:00   0.95      15804.0  United Kingdom  \n",
      "541889 2011-12-09 12:31:00   1.95      15804.0  United Kingdom  \n",
      "541903 2011-12-09 12:50:00   4.15      12680.0          France  \n",
      "541906 2011-12-09 12:50:00   4.15      12680.0          France  \n",
      "\n",
      "[38594 rows x 8 columns]\n",
      "Number of rows after removing non-unique StockCode entries:\n",
      " 359331\n"
     ]
    }
   ],
   "source": [
    "# 6. 确保StockCode和Description的一一对应性，并删除不符合条件的数据\n",
    "print(\"Year 2009-2010 dataframe:\\n\")\n",
    "unique_desc_1 = df_1.groupby('StockCode').Description.nunique()\n",
    "non_unique_stock_codes_1 = unique_desc_1[unique_desc_1 > 1].index.tolist()\n",
    "non_unique_descriptions_1 = df_1[df_1['StockCode'].isin(non_unique_stock_codes_1)]\n",
    "num_rows_before_1 = df_1.shape[0]\n",
    "print(\"Number of rows before removing non-unique StockCode entries:\", num_rows_before_1)\n",
    "print(\"Year 2009-2010 Number of rows with non-unique StockCodes:\", non_unique_descriptions_1.shape[0])\n",
    "print(\"Year 2009-2010 Non-unique StockCodes and their Descriptions:\\n\", non_unique_descriptions_1)\n",
    "df_1 = df_1[~df_1['StockCode'].isin(non_unique_stock_codes_1)]\n",
    "# 打印删除后的数据行数\n",
    "num_rows_after_1 = df_1.shape[0]\n",
    "print(\"Number of rows after removing non-unique StockCode entries:\\n\", num_rows_after_1)\n",
    "\n",
    "\n",
    "print()\n",
    "\n",
    "print(\"Year 2010-2011 dataframe:\\n\")\n",
    "unique_desc_2 = df_2.groupby('StockCode').Description.nunique()\n",
    "non_unique_stock_codes_2 = unique_desc_2[unique_desc_2 > 1].index.tolist()\n",
    "non_unique_descriptions_2 = df_2[df_2['StockCode'].isin(non_unique_stock_codes_2)]\n",
    "num_rows_before_2 = df_2.shape[0]\n",
    "print(\"Number of rows before removing non-unique StockCode entries:\", num_rows_before_2)\n",
    "print(\"Year 2010-2011 Number of rows with non-unique StockCodes:\", non_unique_descriptions_2.shape[0])\n",
    "print(\"Year 2010-2011 Non-unique StockCodes and their Descriptions:\\n\", non_unique_descriptions_2)\n",
    "df_2 = df_2[~df_2['StockCode'].isin(non_unique_stock_codes_2)]\n",
    "# 打印删除后的数据行数\n",
    "num_rows_after_2 = df_2.shape[0]\n",
    "print(\"Number of rows after removing non-unique StockCode entries:\\n\", num_rows_after_2)\n",
    "\n"
   ]
  },
  {
   "cell_type": "code",
   "execution_count": 8,
   "id": "7a016849-4180-4fcb-a06a-93389b0965cc",
   "metadata": {
    "scrolled": true
   },
   "outputs": [
    {
     "name": "stdout",
     "output_type": "stream",
     "text": [
      "Year 2009-2010 dataframe:\n",
      "\n",
      "Number of rows before removing 'POST' entries: 320650\n",
      "Number of rows with 'StockCode' as 'POST' in Year 2009-2010: 738\n",
      "Number of rows after removing 'POST' entries: 319912\n",
      "\n",
      "Year 2010-2011 dataframe:\n",
      "\n",
      "Number of rows before removing 'POST' entries: 359331\n",
      "Number of rows with 'StockCode' as 'POST' in Year 2010-2011: 1100\n",
      "Number of rows after removing 'POST' entries: 358231\n"
     ]
    }
   ],
   "source": [
    "# 7. 删除StockCode为'POST'的行\n",
    "print(\"Year 2009-2010 dataframe:\\n\")\n",
    "num_rows_before_removal_1 = df_1.shape[0]\n",
    "print(f\"Number of rows before removing 'POST' entries: {num_rows_before_removal_1}\")\n",
    "num_post_entries_1 = df_1[df_1['StockCode'] == 'POST'].shape[0]\n",
    "print(f\"Number of rows with 'StockCode' as 'POST' in Year 2009-2010: {num_post_entries_1}\")\n",
    "df_1 = df_1[df_1['StockCode'] != 'POST']\n",
    "num_rows_after_removal_1 = df_1.shape[0]\n",
    "print(f\"Number of rows after removing 'POST' entries: {num_rows_after_removal_1}\")\n",
    "print()\n",
    "\n",
    "\n",
    "print(\"Year 2010-2011 dataframe:\\n\")\n",
    "num_rows_before_removal_2 = df_2.shape[0]\n",
    "print(f\"Number of rows before removing 'POST' entries: {num_rows_before_removal_2}\")\n",
    "num_post_entries_2 = df_2[df_2['StockCode'] == 'POST'].shape[0]\n",
    "print(f\"Number of rows with 'StockCode' as 'POST' in Year 2010-2011: {num_post_entries_2}\")\n",
    "df_2 = df_2[df_2['StockCode'] != 'POST']\n",
    "num_rows_after_removal_2 = df_2.shape[0]\n",
    "print(f\"Number of rows after removing 'POST' entries: {num_rows_after_removal_2}\")"
   ]
  },
  {
   "cell_type": "markdown",
   "id": "00c14ee6-aa90-4f8b-8a91-278262d29366",
   "metadata": {},
   "source": [
    "#### 2.Preparing Invoice-Product Matrix for ARL Data Structure"
   ]
  },
  {
   "cell_type": "code",
   "execution_count": 9,
   "id": "9d734f8f-79a3-4811-895f-b9f45e4c399a",
   "metadata": {},
   "outputs": [
    {
     "name": "stdout",
     "output_type": "stream",
     "text": [
      "Number of entries in df_1 for Korea: 49\n",
      "Number of instances (rows) in basket_sets: 2\n",
      "Number of attributes (columns) in basket_sets: 13\n"
     ]
    },
    {
     "data": {
      "text/html": [
       "<div>\n",
       "<style scoped>\n",
       "    .dataframe tbody tr th:only-of-type {\n",
       "        vertical-align: middle;\n",
       "    }\n",
       "\n",
       "    .dataframe tbody tr th {\n",
       "        vertical-align: top;\n",
       "    }\n",
       "\n",
       "    .dataframe thead th {\n",
       "        text-align: right;\n",
       "    }\n",
       "</style>\n",
       "<table border=\"1\" class=\"dataframe\">\n",
       "  <thead>\n",
       "    <tr style=\"text-align: right;\">\n",
       "      <th>Description</th>\n",
       "      <th>CACTI T-LIGHT CANDLES</th>\n",
       "      <th>CITRONELLA CANDLE GARDEN POT</th>\n",
       "      <th>DISCO BALL CHRISTMAS DECORATION</th>\n",
       "      <th>FROG CANDLE</th>\n",
       "      <th>HEART T-LIGHT HOLDER</th>\n",
       "      <th>MIRRORED WALL ART POPPIES</th>\n",
       "      <th>MIRRORED WALL ART SKULLS</th>\n",
       "      <th>MIRRORED WALL ART SNOWFLAKES</th>\n",
       "      <th>MIRRORED WALL ART SPLODGES</th>\n",
       "      <th>PACK 3 BOXES CHRISTMAS PANNETONE</th>\n",
       "      <th>ROTATING SILVER ANGELS T-LIGHT HLDR</th>\n",
       "      <th>SET OF 20 VINTAGE CHRISTMAS NAPKINS</th>\n",
       "      <th>TROPICAL  HONEYCOMB PAPER GARLAND</th>\n",
       "    </tr>\n",
       "    <tr>\n",
       "      <th>Invoice</th>\n",
       "      <th></th>\n",
       "      <th></th>\n",
       "      <th></th>\n",
       "      <th></th>\n",
       "      <th></th>\n",
       "      <th></th>\n",
       "      <th></th>\n",
       "      <th></th>\n",
       "      <th></th>\n",
       "      <th></th>\n",
       "      <th></th>\n",
       "      <th></th>\n",
       "      <th></th>\n",
       "    </tr>\n",
       "  </thead>\n",
       "  <tbody>\n",
       "    <tr>\n",
       "      <th>522570</th>\n",
       "      <td>0</td>\n",
       "      <td>0</td>\n",
       "      <td>0</td>\n",
       "      <td>1</td>\n",
       "      <td>1</td>\n",
       "      <td>0</td>\n",
       "      <td>0</td>\n",
       "      <td>0</td>\n",
       "      <td>0</td>\n",
       "      <td>0</td>\n",
       "      <td>0</td>\n",
       "      <td>0</td>\n",
       "      <td>0</td>\n",
       "    </tr>\n",
       "    <tr>\n",
       "      <th>535831</th>\n",
       "      <td>1</td>\n",
       "      <td>1</td>\n",
       "      <td>1</td>\n",
       "      <td>0</td>\n",
       "      <td>0</td>\n",
       "      <td>1</td>\n",
       "      <td>1</td>\n",
       "      <td>1</td>\n",
       "      <td>1</td>\n",
       "      <td>1</td>\n",
       "      <td>1</td>\n",
       "      <td>1</td>\n",
       "      <td>1</td>\n",
       "    </tr>\n",
       "  </tbody>\n",
       "</table>\n",
       "</div>"
      ],
      "text/plain": [
       "Description  CACTI T-LIGHT CANDLES  CITRONELLA CANDLE GARDEN POT  \\\n",
       "Invoice                                                            \n",
       "522570                           0                             0   \n",
       "535831                           1                             1   \n",
       "\n",
       "Description  DISCO BALL CHRISTMAS DECORATION  FROG CANDLE  \\\n",
       "Invoice                                                     \n",
       "522570                                     0            1   \n",
       "535831                                     1            0   \n",
       "\n",
       "Description  HEART T-LIGHT HOLDER  MIRRORED WALL ART POPPIES  \\\n",
       "Invoice                                                        \n",
       "522570                          1                          0   \n",
       "535831                          0                          1   \n",
       "\n",
       "Description  MIRRORED WALL ART SKULLS  MIRRORED WALL ART SNOWFLAKES  \\\n",
       "Invoice                                                               \n",
       "522570                              0                             0   \n",
       "535831                              1                             1   \n",
       "\n",
       "Description  MIRRORED WALL ART SPLODGES  PACK 3 BOXES CHRISTMAS PANNETONE  \\\n",
       "Invoice                                                                     \n",
       "522570                                0                                 0   \n",
       "535831                                1                                 1   \n",
       "\n",
       "Description  ROTATING SILVER ANGELS T-LIGHT HLDR  \\\n",
       "Invoice                                            \n",
       "522570                                         0   \n",
       "535831                                         1   \n",
       "\n",
       "Description  SET OF 20 VINTAGE CHRISTMAS NAPKINS  \\\n",
       "Invoice                                            \n",
       "522570                                         0   \n",
       "535831                                         1   \n",
       "\n",
       "Description  TROPICAL  HONEYCOMB PAPER GARLAND   \n",
       "Invoice                                          \n",
       "522570                                        0  \n",
       "535831                                        1  "
      ]
     },
     "execution_count": 9,
     "metadata": {},
     "output_type": "execute_result"
    }
   ],
   "source": [
    "import pandas as pd\n",
    "from mlxtend.frequent_patterns import apriori, association_rules\n",
    "import warnings\n",
    "warnings.filterwarnings('ignore')\n",
    "\n",
    "\n",
    "# 假设df_1已经加载并进行了必要的预处理，筛选'Korea'的数据\n",
    "df_1_Korea = df_1[df_1['Country'] == 'Korea']\n",
    "print(f\"Number of entries in df_1 for Korea: {df_1_Korea.shape[0]}\")\n",
    "\n",
    "# 计算每个产品的总销量并选择销量排名前13的产品\n",
    "top_products = df_1_Korea.groupby('Description')['Quantity'].sum().sort_values(ascending=False).head(13).index\n",
    "\n",
    "# 根据销量排名前13的产品创建一个发票-产品矩阵\n",
    "basket = (df_1_Korea[df_1_Korea['Description'].isin(top_products)]\n",
    "          .groupby(['Invoice', 'Description'])['Quantity']\n",
    "          .sum().unstack().reset_index().fillna(0)\n",
    "          .set_index('Invoice'))\n",
    "\n",
    "# 将数量转换为1或0的函数\n",
    "def encode_units(x):\n",
    "    if x <= 0:\n",
    "        return 0\n",
    "    if x >= 1:\n",
    "        return 1\n",
    "\n",
    "# 应用encode_units函数到basket\n",
    "basket_sets = basket.applymap(encode_units)\n",
    "\n",
    "# 打印basket_sets的实例和属性数量\n",
    "print(f\"Number of instances (rows) in basket_sets: {basket_sets.shape[0]}\")\n",
    "print(f\"Number of attributes (columns) in basket_sets: {basket_sets.shape[1]}\")\n",
    "\n",
    "# 打印basket_sets的前几行以验证结果\n",
    "basket_sets.head()\n"
   ]
  },
  {
   "cell_type": "code",
   "execution_count": 10,
   "id": "a7cb8319-a87a-42ea-a7d0-4c861965288c",
   "metadata": {},
   "outputs": [
    {
     "name": "stdout",
     "output_type": "stream",
     "text": [
      "                                 antecedents  \\\n",
      "173053  (TROPICAL  HONEYCOMB PAPER GARLAND )   \n",
      "0                    (CACTI T-LIGHT CANDLES)   \n",
      "1             (CITRONELLA CANDLE GARDEN POT)   \n",
      "2                    (CACTI T-LIGHT CANDLES)   \n",
      "3          (DISCO BALL CHRISTMAS DECORATION)   \n",
      "\n",
      "                                              consequents  antecedent support  \\\n",
      "173053  (PACK 3 BOXES CHRISTMAS PANNETONE, CITRONELLA ...                 0.5   \n",
      "0                          (CITRONELLA CANDLE GARDEN POT)                 0.5   \n",
      "1                                 (CACTI T-LIGHT CANDLES)                 0.5   \n",
      "2                       (DISCO BALL CHRISTMAS DECORATION)                 0.5   \n",
      "3                                 (CACTI T-LIGHT CANDLES)                 0.5   \n",
      "\n",
      "        consequent support  support  confidence  lift  leverage  conviction  \\\n",
      "173053                 0.5      0.5         1.0   2.0      0.25         inf   \n",
      "0                      0.5      0.5         1.0   2.0      0.25         inf   \n",
      "1                      0.5      0.5         1.0   2.0      0.25         inf   \n",
      "2                      0.5      0.5         1.0   2.0      0.25         inf   \n",
      "3                      0.5      0.5         1.0   2.0      0.25         inf   \n",
      "\n",
      "        zhangs_metric  \n",
      "173053            1.0  \n",
      "0                 1.0  \n",
      "1                 1.0  \n",
      "2                 1.0  \n",
      "3                 1.0  \n"
     ]
    }
   ],
   "source": [
    "from mlxtend.frequent_patterns import apriori, association_rules\n",
    "# 使用Apriori算法计算支持度，min_support设置为0.01\n",
    "frequent_itemsets = apriori(basket_sets, min_support=0.01, use_colnames=True)\n",
    "# 从频繁项集中生成关联规则\n",
    "rules = association_rules(frequent_itemsets, metric=\"support\", min_threshold=0.01)\n",
    "# 排序并查看支持度最高的前五个关联规则\n",
    "top_rules = rules.sort_values(by=\"support\", ascending=False).head(5)\n",
    "print(top_rules)\n"
   ]
  },
  {
   "cell_type": "code",
   "execution_count": null,
   "id": "9d512ee1-f59e-4fd4-b578-8df0daa61b05",
   "metadata": {},
   "outputs": [],
   "source": []
  },
  {
   "cell_type": "code",
   "execution_count": null,
   "id": "b87fc6e7-326d-4f16-bcc5-15017dc8d271",
   "metadata": {},
   "outputs": [],
   "source": []
  },
  {
   "cell_type": "code",
   "execution_count": null,
   "id": "6ffb8195-2e7a-4318-9801-c9a3907c7223",
   "metadata": {},
   "outputs": [],
   "source": []
  },
  {
   "cell_type": "code",
   "execution_count": null,
   "id": "f1c26ffa-d7f3-4133-a75f-f69a66317ef5",
   "metadata": {},
   "outputs": [],
   "source": []
  },
  {
   "cell_type": "code",
   "execution_count": null,
   "id": "71c2f86d-33be-4032-9aa2-3f981da4b7d4",
   "metadata": {},
   "outputs": [],
   "source": []
  },
  {
   "cell_type": "code",
   "execution_count": null,
   "id": "b725bd85-c522-407e-9bf0-30b354fb4f6c",
   "metadata": {},
   "outputs": [],
   "source": []
  },
  {
   "cell_type": "code",
   "execution_count": null,
   "id": "1afc0368-ee0a-448d-9ac8-2fbc723d0881",
   "metadata": {},
   "outputs": [],
   "source": []
  },
  {
   "cell_type": "code",
   "execution_count": null,
   "id": "86247834-925b-474f-b3d7-b876a322f670",
   "metadata": {},
   "outputs": [],
   "source": []
  },
  {
   "cell_type": "code",
   "execution_count": null,
   "id": "bebf26ac-18b2-44e2-bed7-09942cfad99a",
   "metadata": {},
   "outputs": [],
   "source": []
  }
 ],
 "metadata": {
  "kernelspec": {
   "display_name": "Python 3 (ipykernel)",
   "language": "python",
   "name": "python3"
  },
  "language_info": {
   "codemirror_mode": {
    "name": "ipython",
    "version": 3
   },
   "file_extension": ".py",
   "mimetype": "text/x-python",
   "name": "python",
   "nbconvert_exporter": "python",
   "pygments_lexer": "ipython3",
   "version": "3.11.8"
  }
 },
 "nbformat": 4,
 "nbformat_minor": 5
}
