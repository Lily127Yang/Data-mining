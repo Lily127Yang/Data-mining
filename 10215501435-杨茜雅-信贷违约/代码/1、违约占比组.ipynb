{
 "cells": [
  {
   "attachments": {},
   "cell_type": "markdown",
   "metadata": {},
   "source": [
    "### 1、查看原始数据中标签为1的占比"
   ]
  },
  {
   "cell_type": "code",
   "execution_count": 8,
   "metadata": {},
   "outputs": [
    {
     "name": "stdout",
     "output_type": "stream",
     "text": [
      "原始训练数据的总数量: 1200\n",
      "逾期的申请数量（is_30days_overdue为1）: 455\n",
      "逾期的占比: 37.92%\n"
     ]
    }
   ],
   "source": [
    "import pandas as pd\n",
    "\n",
    "# 加载数据\n",
    "df = pd.read_csv('训练1/table_loan_train.txt')\n",
    "\n",
    "# 总的申请数量\n",
    "total_applications = df.shape[0]\n",
    "\n",
    "# 逾期的申请数量\n",
    "overdue_applications = df[df['is_30days_overdue'] == 1].shape[0]\n",
    "\n",
    "# 计算逾期的占比\n",
    "overdue_ratio = (overdue_applications / total_applications) * 100\n",
    "\n",
    "# 打印结果\n",
    "print(f\"原始训练数据的总数量: {total_applications}\")\n",
    "print(f\"逾期的申请数量（is_30days_overdue为1）: {overdue_applications}\")\n",
    "print(f\"逾期的占比: {overdue_ratio:.2f}%\")\n"
   ]
  },
  {
   "cell_type": "code",
   "execution_count": 9,
   "metadata": {},
   "outputs": [
    {
     "name": "stdout",
     "output_type": "stream",
     "text": [
      "历史还款数据的总申请数量: 353\n",
      "逾期的申请数量（is_30days_overdue为1）: 156\n",
      "逾期的占比: 44.19%\n"
     ]
    }
   ],
   "source": [
    "import pandas as pd\n",
    "\n",
    "# 加载数据\n",
    "df = pd.read_csv('历史还款数据/table_datamining_history_loan.txt')\n",
    "\n",
    "# 总的申请数量\n",
    "total_applications = df.shape[0]\n",
    "\n",
    "# 逾期的申请数量\n",
    "overdue_applications = df[df['is_30days_overdue'] == 1].shape[0]\n",
    "\n",
    "# 计算逾期的占比\n",
    "overdue_ratio = (overdue_applications / total_applications) * 100\n",
    "\n",
    "# 打印结果\n",
    "print(f\"历史还款数据的总申请数量: {total_applications}\")\n",
    "print(f\"逾期的申请数量（is_30days_overdue为1）: {overdue_applications}\")\n",
    "print(f\"逾期的占比: {overdue_ratio:.2f}%\")\n"
   ]
  },
  {
   "attachments": {},
   "cell_type": "markdown",
   "metadata": {},
   "source": [
    "### 2、查看四组数据的1占比量（历史的有两个）"
   ]
  },
  {
   "attachments": {},
   "cell_type": "markdown",
   "metadata": {},
   "source": [
    "#### 2.1 Both组"
   ]
  },
  {
   "cell_type": "code",
   "execution_count": 11,
   "metadata": {},
   "outputs": [
    {
     "name": "stdout",
     "output_type": "stream",
     "text": [
      "训练数据both组的总申请数量: 164\n",
      "逾期的申请数量（is_30days_overdue为1）: 41\n",
      "逾期的占比: 25.00%\n"
     ]
    }
   ],
   "source": [
    "\n",
    "import pandas as pd\n",
    "\n",
    "# 加载数据\n",
    "df = pd.read_csv('训练1/train_both_his2_updated.txt')\n",
    "\n",
    "# 总的申请数量\n",
    "total_applications = df.shape[0]\n",
    "\n",
    "# 逾期的申请数量\n",
    "overdue_applications = df[df['is_30days_overdue'] == 1].shape[0]\n",
    "\n",
    "# 计算逾期的占比\n",
    "overdue_ratio = (overdue_applications / total_applications) * 100\n",
    "\n",
    "# 打印结果\n",
    "print(f\"训练数据both组的总申请数量: {total_applications}\")\n",
    "print(f\"逾期的申请数量（is_30days_overdue为1）: {overdue_applications}\")\n",
    "print(f\"逾期的占比: {overdue_ratio:.2f}%\")\n"
   ]
  },
  {
   "attachments": {},
   "cell_type": "markdown",
   "metadata": {},
   "source": [
    "#### 2.2 流水组"
   ]
  },
  {
   "cell_type": "code",
   "execution_count": 13,
   "metadata": {},
   "outputs": [
    {
     "name": "stdout",
     "output_type": "stream",
     "text": [
      "训练数据流水组的总申请数量: 910\n",
      "逾期的申请数量（is_30days_overdue为1）: 333\n",
      "逾期的占比: 36.59%\n"
     ]
    }
   ],
   "source": [
    "\n",
    "import pandas as pd\n",
    "\n",
    "# 加载数据\n",
    "df = pd.read_csv('训练1/train_combined_with_merchant_info_with_store_count_updated.txt')\n",
    "\n",
    "# 总的申请数量\n",
    "total_applications = df.shape[0]\n",
    "\n",
    "# 逾期的申请数量\n",
    "overdue_applications = df[df['is_30days_overdue'] == 1].shape[0]\n",
    "\n",
    "# 计算逾期的占比\n",
    "overdue_ratio = (overdue_applications / total_applications) * 100\n",
    "\n",
    "# 打印结果\n",
    "print(f\"训练数据流水组的总申请数量: {total_applications}\")\n",
    "print(f\"逾期的申请数量（is_30days_overdue为1）: {overdue_applications}\")\n",
    "print(f\"逾期的占比: {overdue_ratio:.2f}%\")\n"
   ]
  },
  {
   "attachments": {},
   "cell_type": "markdown",
   "metadata": {},
   "source": [
    "#### 2.3 neither组"
   ]
  },
  {
   "cell_type": "code",
   "execution_count": 19,
   "metadata": {},
   "outputs": [
    {
     "name": "stdout",
     "output_type": "stream",
     "text": [
      "训练数据neither组大的训练集的总申请数量: 1200\n",
      "逾期的申请数量（is_30days_overdue为1）: 455\n",
      "逾期的占比: 37.92%\n"
     ]
    },
    {
     "ename": "",
     "evalue": "",
     "output_type": "error",
     "traceback": [
      "\u001b[1;31m在当前单元格或上一个单元格中执行代码时 Kernel 崩溃。请查看单元格中的代码，以确定故障的可能原因。有关详细信息，请单击 <a href='https://aka.ms/vscodeJupyterKernelCrash'>此处</a>。有关更多详细信息，请查看 Jupyter <a href='command:jupyter.viewOutput'>log</a>。"
     ]
    }
   ],
   "source": [
    "import pandas as pd\n",
    "\n",
    "# 加载数据\n",
    "df = pd.read_csv('训练1/table_loan_with_merchant_info.txt')\n",
    "\n",
    "# 总的申请数量\n",
    "total_applications = df.shape[0]\n",
    "\n",
    "# 逾期的申请数量\n",
    "overdue_applications = df[df['is_30days_overdue'] == 1].shape[0]\n",
    "\n",
    "# 计算逾期的占比\n",
    "overdue_ratio = (overdue_applications / total_applications) * 100\n",
    "\n",
    "# 打印结果\n",
    "print(f\"训练数据neither组大的训练集的总申请数量: {total_applications}\")\n",
    "print(f\"逾期的申请数量（is_30days_overdue为1）: {overdue_applications}\")\n",
    "print(f\"逾期的占比: {overdue_ratio:.2f}%\")\n"
   ]
  },
  {
   "cell_type": "code",
   "execution_count": 18,
   "metadata": {},
   "outputs": [
    {
     "name": "stdout",
     "output_type": "stream",
     "text": [
      "训练数据neither组小的训练集的总申请数量: 93\n",
      "逾期的申请数量（is_30days_overdue为1）: 64\n",
      "逾期的占比: 68.82%\n"
     ]
    }
   ],
   "source": [
    "import pandas as pd\n",
    "\n",
    "# 加载数据\n",
    "df = pd.read_csv('训练1/train_neither_with_merchant_info.txt')\n",
    "\n",
    "# 总的申请数量\n",
    "total_applications = df.shape[0]\n",
    "\n",
    "# 逾期的申请数量\n",
    "overdue_applications = df[df['is_30days_overdue'] == 1].shape[0]\n",
    "\n",
    "# 计算逾期的占比\n",
    "overdue_ratio = (overdue_applications / total_applications) * 100\n",
    "\n",
    "# 打印结果\n",
    "print(f\"训练数据neither组小的训练集的总申请数量: {total_applications}\")\n",
    "print(f\"逾期的申请数量（is_30days_overdue为1）: {overdue_applications}\")\n",
    "print(f\"逾期的占比: {overdue_ratio:.2f}%\")\n"
   ]
  },
  {
   "attachments": {},
   "cell_type": "markdown",
   "metadata": {},
   "source": [
    "#### 2.4 history组"
   ]
  },
  {
   "cell_type": "code",
   "execution_count": 16,
   "metadata": {},
   "outputs": [
    {
     "name": "stdout",
     "output_type": "stream",
     "text": [
      "历史组大的训练集的总申请数量: 348\n",
      "逾期的申请数量（is_30days_overdue为1）: 150\n",
      "逾期的占比: 43.10%\n"
     ]
    }
   ],
   "source": [
    "\n",
    "import pandas as pd\n",
    "\n",
    "# 加载数据\n",
    "df = pd.read_csv('历史还款数据/history_3.txt')\n",
    "\n",
    "# 总的申请数量\n",
    "total_applications = df.shape[0]\n",
    "\n",
    "# 逾期的申请数量\n",
    "overdue_applications = df[df['is_30days_overdue'] == 1].shape[0]\n",
    "\n",
    "# 计算逾期的占比\n",
    "overdue_ratio = (overdue_applications / total_applications) * 100\n",
    "\n",
    "# 打印结果\n",
    "print(f\"历史组大的训练集的总申请数量: {total_applications}\")\n",
    "print(f\"逾期的申请数量（is_30days_overdue为1）: {overdue_applications}\")\n",
    "print(f\"逾期的占比: {overdue_ratio:.2f}%\")\n"
   ]
  },
  {
   "cell_type": "code",
   "execution_count": 17,
   "metadata": {},
   "outputs": [
    {
     "name": "stdout",
     "output_type": "stream",
     "text": [
      "历史组小的训练集的总申请数量: 33\n",
      "逾期的申请数量（is_30days_overdue为1）: 17\n",
      "逾期的占比: 51.52%\n"
     ]
    }
   ],
   "source": [
    "\n",
    "import pandas as pd\n",
    "\n",
    "# 加载数据\n",
    "df = pd.read_csv('训练1/train_history_2.txt')\n",
    "\n",
    "# 总的申请数量\n",
    "total_applications = df.shape[0]\n",
    "\n",
    "# 逾期的申请数量\n",
    "overdue_applications = df[df['is_30days_overdue'] == 1].shape[0]\n",
    "\n",
    "# 计算逾期的占比\n",
    "overdue_ratio = (overdue_applications / total_applications) * 100\n",
    "\n",
    "# 打印结果\n",
    "print(f\"历史组小的训练集的总申请数量: {total_applications}\")\n",
    "print(f\"逾期的申请数量（is_30days_overdue为1）: {overdue_applications}\")\n",
    "print(f\"逾期的占比: {overdue_ratio:.2f}%\")\n"
   ]
  }
 ],
 "metadata": {
  "kernelspec": {
   "display_name": "base",
   "language": "python",
   "name": "python3"
  },
  "language_info": {
   "codemirror_mode": {
    "name": "ipython",
    "version": 3
   },
   "file_extension": ".py",
   "mimetype": "text/x-python",
   "name": "python",
   "nbconvert_exporter": "python",
   "pygments_lexer": "ipython3",
   "version": "3.11.4"
  },
  "orig_nbformat": 4
 },
 "nbformat": 4,
 "nbformat_minor": 2
}
