{
 "cells": [
  {
   "attachments": {},
   "cell_type": "markdown",
   "metadata": {},
   "source": [
    "###  1、处理助教给的预测文件，删除predict_score和多余的逗号，确认两个文件的apply_id是对应的并且没有重复"
   ]
  },
  {
   "cell_type": "code",
   "execution_count": null,
   "metadata": {},
   "outputs": [],
   "source": [
    "import pandas as pd\n",
    "\n",
    "# 读取数据\n",
    "data = pd.read_csv('table_loan_predict.txt')\n",
    "\n",
    "# 删除predict_score列\n",
    "data = data.drop(columns=['predict_score'])\n",
    "\n",
    "# 去除第一列数字后多余的逗号\n",
    "data['apply_id'] = data['apply_id'].astype(str)  # 确保apply_id列为字符串类型\n",
    "data['apply_id'] = data['apply_id'].str.rstrip(',')  # 去除apply_id列中每个元素后多余的逗号\n",
    "\n",
    "# 保存处理后的数据\n",
    "data.to_csv('table_loan_predict_cleaned.txt', index=False)\n"
   ]
  },
  {
   "cell_type": "code",
   "execution_count": null,
   "metadata": {},
   "outputs": [
    {
     "name": "stdout",
     "output_type": "stream",
     "text": [
      "原始 'table_loan_test.txt' 的数据大小: (515, 5)\n",
      "原始 'table_loan_predict.txt' 的数据大小: (515, 2)\n",
      "table_loan_test.txt 中的 'apply_id' 没有重复。\n",
      "table_loan_predict.txt 中的 'apply_id' 没有重复。\n",
      "两个文件中的 'apply_id' 完全一致。\n"
     ]
    }
   ],
   "source": [
    "#贷款数据--test部分\n",
    "#查看是否有重复行，和助教给的predict是否完全对应\n",
    "\n",
    "import pandas as pd\n",
    "\n",
    "# 文件路径\n",
    "file_path_test = '贷款数据/table_loan_test.txt'\n",
    "file_path_predict = 'table_loan_predict.txt'\n",
    "\n",
    "# 读取数据\n",
    "df_test = pd.read_csv(file_path_test)\n",
    "df_predict = pd.read_csv(file_path_predict)\n",
    "\n",
    "# 打印原始数据大小\n",
    "print(f\"原始 'table_loan_test.txt' 的数据大小: {df_test.shape}\")\n",
    "print(f\"原始 'table_loan_predict.txt' 的数据大小: {df_predict.shape}\")\n",
    "\n",
    "# 检查 'apply_id' 的重复情况并打印重复行\n",
    "def check_and_remove_duplicates(df, file_name):\n",
    "    if df['apply_id'].duplicated().any():\n",
    "        print(f\"{file_name} 中的 'apply_id' 有重复。重复的行如下：\")\n",
    "        duplicates = df[df['apply_id'].duplicated(keep=False)]\n",
    "        print(duplicates)\n",
    "        # 删除重复行\n",
    "        df = df.drop_duplicates(subset=['apply_id'], keep='first')\n",
    "        print(f\"删除重复行后 {file_name} 的数据大小: {df.shape}\")\n",
    "    else:\n",
    "        print(f\"{file_name} 中的 'apply_id' 没有重复。\")\n",
    "    return df\n",
    "\n",
    "df_test = check_and_remove_duplicates(df_test, 'table_loan_test.txt')\n",
    "df_predict = check_and_remove_duplicates(df_predict, 'table_loan_predict.txt')\n",
    "\n",
    "# 比较 'apply_id' 是否完全一致\n",
    "if df_test['apply_id'].equals(df_predict['apply_id']):\n",
    "    print(\"两个文件中的 'apply_id' 完全一致。\")\n",
    "else:\n",
    "    print(\"两个文件中的 'apply_id' 不一致。\")\n"
   ]
  },
  {
   "attachments": {},
   "cell_type": "markdown",
   "metadata": {},
   "source": [
    "### 2、查看贷款数据、历史还款数据、流水数据有没有重复的id行，有的话去重（流水数据只是查看，去重等合并完一起去）"
   ]
  },
  {
   "cell_type": "code",
   "execution_count": null,
   "metadata": {},
   "outputs": [
    {
     "name": "stdout",
     "output_type": "stream",
     "text": [
      "原始数据大小: (1200, 6)\n",
      "贷款数据/table_loan_train.txt中的 'apply_id' 没有重复。\n"
     ]
    }
   ],
   "source": [
    "#贷款数据-train部分\n",
    "#看是否有重复行\n",
    "import pandas as pd\n",
    "\n",
    "# 文件路径\n",
    "file_path = '贷款数据/table_loan_train.txt'\n",
    "\n",
    "# 读取数据\n",
    "df = pd.read_csv(file_path)\n",
    "\n",
    "# 打印原始数据大小\n",
    "print(f\"原始数据大小: {df.shape}\")\n",
    "\n",
    "# 检查 'apply_id' 的重复情况并打印重复行\n",
    "if df['apply_id'].duplicated().any():\n",
    "    print(\"文件中的 'apply_id' 有重复。重复的行如下：\")\n",
    "    duplicates = df[df['apply_id'].duplicated(keep=False)]\n",
    "    print(duplicates)\n",
    "    # 删除重复行\n",
    "    df = df.drop_duplicates(subset=['apply_id'], keep='first')\n",
    "    print(f\"删除重复行后的数据大小: {df.shape}\")\n",
    "else:\n",
    "    print(\"贷款数据/table_loan_train.txt中的 'apply_id' 没有重复。\")\n",
    "\n",
    "\n"
   ]
  },
  {
   "cell_type": "code",
   "execution_count": null,
   "metadata": {},
   "outputs": [
    {
     "name": "stdout",
     "output_type": "stream",
     "text": [
      "原始数据大小: (353, 8)\n",
      "历史还款数据/table_datamining_history_loan.txt中的 'apply_id' 没有重复。\n"
     ]
    }
   ],
   "source": [
    "#历史还款数据\n",
    "#看是否有重复行\n",
    "import pandas as pd\n",
    "\n",
    "# 文件路径\n",
    "file_path = '历史还款数据/table_datamining_history_loan.txt'\n",
    "\n",
    "# 读取数据\n",
    "df = pd.read_csv(file_path)\n",
    "\n",
    "# 打印原始数据大小\n",
    "print(f\"原始数据大小: {df.shape}\")\n",
    "\n",
    "# 检查 'apply_id' 的重复情况并打印重复行\n",
    "if df['apply_id'].duplicated().any():\n",
    "    print(\"文件中的 'apply_id' 有重复。重复的行如下：\")\n",
    "    duplicates = df[df['apply_id'].duplicated(keep=False)]\n",
    "    print(duplicates)\n",
    "    # 删除重复行\n",
    "    df = df.drop_duplicates(subset=['apply_id'], keep='first')\n",
    "    print(f\"删除重复行后的数据大小: {df.shape}\")\n",
    "else:\n",
    "    print(\"历史还款数据/table_datamining_history_loan.txt中的 'apply_id' 没有重复。\")\n",
    "\n",
    "\n"
   ]
  },
  {
   "cell_type": "code",
   "execution_count": null,
   "metadata": {},
   "outputs": [
    {
     "name": "stdout",
     "output_type": "stream",
     "text": [
      "原始数据大小: (5599, 3)\n",
      "商户数据/table_datamining_merchant.txt中的 'merchant_id' 没有重复。\n"
     ]
    }
   ],
   "source": [
    "#商户数据/table_datamining_merchant.txt\n",
    "#看是否有重复行\n",
    "import pandas as pd\n",
    "\n",
    "# 文件路径\n",
    "file_path = '商户数据/table_datamining_merchant.txt'\n",
    "\n",
    "# 读取数据\n",
    "df = pd.read_csv(file_path)\n",
    "\n",
    "# 打印原始数据大小\n",
    "print(f\"原始数据大小: {df.shape}\")\n",
    "\n",
    "# 检查 'id' 的重复情况并打印重复行\n",
    "if df['merchant_id'].duplicated().any():\n",
    "    print(\"文件中的 'merchant_id' 有重复。重复的行如下：\")\n",
    "    duplicates = df[df['merchant_id'].duplicated(keep=False)]\n",
    "    print(duplicates)\n",
    "    # 删除重复行\n",
    "    df = df.drop_duplicates(subset=['merchant_id'], keep='first')\n",
    "    print(f\"删除重复行后的数据大小: {df.shape}\")\n",
    "else:\n",
    "    print(\"商户数据/table_datamining_merchant.txt中的 'merchant_id' 没有重复。\")\n"
   ]
  }
 ],
 "metadata": {
  "kernelspec": {
   "display_name": "base",
   "language": "python",
   "name": "python3"
  },
  "language_info": {
   "name": "python",
   "version": "3.11.4"
  },
  "orig_nbformat": 4
 },
 "nbformat": 4,
 "nbformat_minor": 2
}
